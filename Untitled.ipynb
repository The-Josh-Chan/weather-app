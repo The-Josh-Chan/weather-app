{
 "cells": [
  {
   "cell_type": "code",
   "execution_count": 57,
   "id": "c418e387",
   "metadata": {},
   "outputs": [
    {
     "name": "stdout",
     "output_type": "stream",
     "text": [
      "[('202201', -4.29), ('202202', -2.47), ('202203', 1.5), ('202204', 5.58), ('202205', 12.55), ('202206', 18.18), ('202207', 22.08), ('202208', 22.87), ('202209', 19.23), ('202210', 11.58), ('202211', 6.55), ('202212', 1.07), ('202213', 9.61)]\n"
     ]
    }
   ],
   "source": [
    "import pandas as pd\n",
    "\n",
    "data = {\n",
    "    'T2M': {'202201': -4.29, '202202': -2.47, '202203': 1.5, '202204': 5.58, '202205': 12.55, '202206': 18.18, '202207': 22.08, '202208': 22.87, '202209': 19.23, '202210': 11.58, '202211': 6.55, '202212': 1.07, '202213': 9.61},\n",
    "    'T2M2': {'202201': -4.29, '202202': -2.47, '202203': 1.5, '202204': 5.58, '202205': 12.55, '202206': 18.18, '202207': 22.08, '202208': 22.87, '202209': 19.23, '202210': 11.58, '202211': 6.55, '202212': 1.07, '202213': 9.61}\n",
    "}\n",
    "\n",
    "# Convert the dictionary to a DataFrame\n",
    "df = pd.DataFrame(data)\n",
    "# print(df)\n",
    "tuple_list = []\n",
    "for date, value in df.iterrows():\n",
    "    tuple_list += [(date, value['T2M'])]\n",
    "    \n",
    "print(tuple_list)"
   ]
  }
 ],
 "metadata": {
  "kernelspec": {
   "display_name": "Python 3 (ipykernel)",
   "language": "python",
   "name": "python3"
  },
  "language_info": {
   "codemirror_mode": {
    "name": "ipython",
    "version": 3
   },
   "file_extension": ".py",
   "mimetype": "text/x-python",
   "name": "python",
   "nbconvert_exporter": "python",
   "pygments_lexer": "ipython3",
   "version": "3.11.5"
  }
 },
 "nbformat": 4,
 "nbformat_minor": 5
}
